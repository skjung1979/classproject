{
 "cells": [
  {
   "cell_type": "code",
   "execution_count": 1,
   "id": "c4f757c1",
   "metadata": {},
   "outputs": [
    {
     "name": "stdout",
     "output_type": "stream",
     "text": [
      "    \n",
      "    홍길동: 1234, Gil-Dong Hong,\n",
      "    이길동: 3915, Gil-Dong Lee,\n",
      "    박길동: 0000, Gil-Dong Park\n",
      "\n"
     ]
    }
   ],
   "source": [
    "b = \"\"\"    \n",
    "    홍길동: 1234, Gil-Dong Hong,\n",
    "    이길동: 3915, Gil-Dong Lee,\n",
    "    박길동: 0000, Gil-Dong Park\n",
    "\"\"\"\n",
    "print(b)"
   ]
  },
  {
   "cell_type": "code",
   "execution_count": 2,
   "id": "610834dd",
   "metadata": {},
   "outputs": [
    {
     "name": "stdout",
     "output_type": "stream",
     "text": [
      "홍길동: 1234, Gil-Dong Hong,\n",
      "    이길동: 3915, Gil-Dong Lee,\n",
      "    박길동: 0000, Gil-Dong Park\n"
     ]
    }
   ],
   "source": [
    "# 좌우 공백제거\n",
    "b = b.strip()\n",
    "print(b)"
   ]
  },
  {
   "cell_type": "code",
   "execution_count": 3,
   "id": "c56e0b05",
   "metadata": {},
   "outputs": [
    {
     "name": "stdout",
     "output_type": "stream",
     "text": [
      "['홍길동: 1234, Gil-Dong Hong,', '    이길동: 3915, Gil-Dong Lee,', '    박길동: 0000, Gil-Dong Park']\n"
     ]
    }
   ],
   "source": [
    "# 개행을 기준으로 분할\n",
    "list1 = b.split('\\n')\n",
    "print(list1)"
   ]
  },
  {
   "cell_type": "code",
   "execution_count": 7,
   "id": "4f6a7732",
   "metadata": {},
   "outputs": [
    {
     "name": "stdout",
     "output_type": "stream",
     "text": [
      "홍길동: 1234, Gil-Dong Hong,\n",
      "['홍길동', ' 1234, Gil-Dong Hong,']\n",
      "홍길동\n"
     ]
    }
   ],
   "source": [
    "print(list1[0])\n",
    "result = list1[0].split(':')\n",
    "print(result)\n",
    "print(result[0])"
   ]
  },
  {
   "cell_type": "code",
   "execution_count": 9,
   "id": "2b84c5a9",
   "metadata": {},
   "outputs": [
    {
     "name": "stdout",
     "output_type": "stream",
     "text": [
      "홍길동\n",
      "이길동\n",
      "박길동\n"
     ]
    }
   ],
   "source": [
    "for i in list:\n",
    "    i = i.split(':')\n",
    "    i = i[0].strip()\n",
    "    print(i)"
   ]
  },
  {
   "cell_type": "code",
   "execution_count": 10,
   "id": "c0e8d8de",
   "metadata": {},
   "outputs": [
    {
     "name": "stdout",
     "output_type": "stream",
     "text": [
      "\n",
      "        <div class=\"select_div\">\n",
      "            <span data-i18n=\"footer.relationSites\">연관사이트</span>\n",
      "            <ul>\n",
      "\n",
      "\n",
      "            </ul>\n",
      "        </div>\n",
      "        <ul class=\"list_sns\">\n",
      "            <li><a href=\"https://www.facebook.com/ekoreatech\" target=\"_blank\"><img src=\"/res/lms/img/common/btn_footer_sns1.png\" alt=\"페이스북\"></a></li>\n",
      "            <li><a href=\"https://blog.naver.com/e-koreatech\" target=\"_blank\"><img src=\"/res/lms/img/common/btn_footer_sns2.png\" alt=\"블로그\"></a></li>\n",
      "            <li><a href=\"https://www.youtube.com/user/koreatecholei\" target=\"_blank\"><img src=\"/res/lms/img/common/btn_footer_sns3.png\" alt=\"유트브\"></a></li>\n",
      "        </ul>\n",
      "\n"
     ]
    }
   ],
   "source": [
    "c = \"\"\"\n",
    "        <div class=\"select_div\">\n",
    "            <span data-i18n=\"footer.relationSites\">연관사이트</span>\n",
    "            <ul>\n",
    "\n",
    "\n",
    "            </ul>\n",
    "        </div>\n",
    "        <ul class=\"list_sns\">\n",
    "            <li><a href=\"https://www.facebook.com/ekoreatech\" target=\"_blank\"><img src=\"/res/lms/img/common/btn_footer_sns1.png\" alt=\"페이스북\"></a></li>\n",
    "            <li><a href=\"https://blog.naver.com/e-koreatech\" target=\"_blank\"><img src=\"/res/lms/img/common/btn_footer_sns2.png\" alt=\"블로그\"></a></li>\n",
    "            <li><a href=\"https://www.youtube.com/user/koreatecholei\" target=\"_blank\"><img src=\"/res/lms/img/common/btn_footer_sns3.png\" alt=\"유트브\"></a></li>\n",
    "        </ul>\n",
    "\"\"\"\n",
    "print(c)"
   ]
  },
  {
   "cell_type": "code",
   "execution_count": 11,
   "id": "b2328521",
   "metadata": {},
   "outputs": [
    {
     "data": {
      "text/plain": [
       "169"
      ]
     },
     "execution_count": 11,
     "metadata": {},
     "output_type": "execute_result"
    }
   ],
   "source": [
    "c.find('list_sns')\n"
   ]
  },
  {
   "cell_type": "code",
   "execution_count": 12,
   "id": "816ab23d",
   "metadata": {},
   "outputs": [
    {
     "name": "stdout",
     "output_type": "stream",
     "text": [
      "list_sns\">\n",
      "            <li><a href=\"https://www.facebook.com/ekoreatech\" target=\"_blank\"><img src=\"/res/lms/img/common/btn_footer_sns1.png\" alt=\"페이스북\"></a></li>\n",
      "            <li><a href=\"https://blog.naver.com/e-koreatech\" target=\"_blank\"><img src=\"/res/lms/img/common/btn_footer_sns2.png\" alt=\"블로그\"></a></li>\n",
      "            <li><a href=\"https://www.youtube.com/user/koreatecholei\" target=\"_blank\"><img src=\"/res/lms/img/common/btn_footer_sns3.png\" alt=\"유트브\"></a></li>\n",
      "        </ul>\n",
      "\n"
     ]
    }
   ],
   "source": [
    "temp = c[169:]\n",
    "print(temp)"
   ]
  },
  {
   "cell_type": "code",
   "execution_count": 13,
   "id": "f67acd99",
   "metadata": {},
   "outputs": [
    {
     "name": "stdout",
     "output_type": "stream",
     "text": [
      "['list_sns\">\\n            <li><a href=\"https://www.facebook.com/ekoreatech\" target=\"_blank\"><img src=\"/res/lms/img/common/btn_footer_sns1.png\" alt=\"페이스북\"></a>', '\\n            <li><a href=\"https://blog.naver.com/e-koreatech\" target=\"_blank\"><img src=\"/res/lms/img/common/btn_footer_sns2.png\" alt=\"블로그\"></a>', '\\n            <li><a href=\"https://www.youtube.com/user/koreatecholei\" target=\"_blank\"><img src=\"/res/lms/img/common/btn_footer_sns3.png\" alt=\"유트브\"></a>', '\\n        </ul>\\n']\n"
     ]
    }
   ],
   "source": [
    "temp = temp.split('</li>')\n",
    "print(temp)"
   ]
  },
  {
   "cell_type": "code",
   "execution_count": 14,
   "id": "f4b0a797",
   "metadata": {},
   "outputs": [
    {
     "name": "stdout",
     "output_type": "stream",
     "text": [
      "list_sns\">\n",
      "            <li><a href=\"https://www.facebook.com/ekoreatech\" target=\"_blank\"><img src=\"/res/lms/img/common/btn_footer_sns1.png\" alt=\"페이스북\"></a>\n"
     ]
    }
   ],
   "source": [
    "print(temp[0])"
   ]
  },
  {
   "cell_type": "code",
   "execution_count": 16,
   "id": "7fb8927e",
   "metadata": {},
   "outputs": [
    {
     "name": "stdout",
     "output_type": "stream",
     "text": [
      "list_sns\">\n",
      "            <li><a href=\"https://www.facebook.com/ekoreatech\n"
     ]
    }
   ],
   "source": [
    "url = temp[0].split('\" target=')[0]\n",
    "print(url)"
   ]
  },
  {
   "cell_type": "code",
   "execution_count": 17,
   "id": "461fca03",
   "metadata": {},
   "outputs": [
    {
     "name": "stdout",
     "output_type": "stream",
     "text": [
      "['list_sns\">\\n            <li><a ', 'https://www.facebook.com/ekoreatech']\n"
     ]
    }
   ],
   "source": [
    "url = url.split('href=\"')\n",
    "print(url)"
   ]
  },
  {
   "cell_type": "code",
   "execution_count": 18,
   "id": "b3eb12f4",
   "metadata": {},
   "outputs": [
    {
     "name": "stdout",
     "output_type": "stream",
     "text": [
      "https://www.facebook.com/ekoreatech\n"
     ]
    }
   ],
   "source": [
    "print(url[1])"
   ]
  },
  {
   "cell_type": "code",
   "execution_count": 19,
   "id": "35583b3f",
   "metadata": {},
   "outputs": [],
   "source": [
    "url = url[1]"
   ]
  },
  {
   "cell_type": "code",
   "execution_count": 20,
   "id": "fea8bac1",
   "metadata": {},
   "outputs": [
    {
     "name": "stdout",
     "output_type": "stream",
     "text": [
      "https://www.facebook.com/ekoreatech\n"
     ]
    }
   ],
   "source": [
    "print(url)"
   ]
  },
  {
   "cell_type": "code",
   "execution_count": 21,
   "id": "51848438",
   "metadata": {},
   "outputs": [
    {
     "name": "stdout",
     "output_type": "stream",
     "text": [
      "list_sns\">\n",
      "            <li><a href=\"https://www.facebook.com/ekoreatech\" target=\"_blank\"><img src=\"/res/lms/img/common/btn_footer_sns1.png\" alt=\"페이스북\"></a>\n"
     ]
    }
   ],
   "source": [
    "print(temp[0])"
   ]
  },
  {
   "cell_type": "code",
   "execution_count": 30,
   "id": "d49295e1",
   "metadata": {},
   "outputs": [
    {
     "name": "stdout",
     "output_type": "stream",
     "text": [
      "페이스북\"></a>\n"
     ]
    }
   ],
   "source": [
    "name = temp[0].split('alt=\"')[1]\n",
    "print(name)"
   ]
  },
  {
   "cell_type": "code",
   "execution_count": 33,
   "id": "4a0189a3",
   "metadata": {},
   "outputs": [
    {
     "name": "stdout",
     "output_type": "stream",
     "text": [
      "페이스북\n"
     ]
    }
   ],
   "source": [
    "name = name[:name.find('\"')]\n",
    "print(name)"
   ]
  },
  {
   "cell_type": "code",
   "execution_count": 35,
   "id": "5718611f",
   "metadata": {},
   "outputs": [
    {
     "name": "stdout",
     "output_type": "stream",
     "text": [
      "https://www.facebook.com/ekoreatech\n",
      "페이스북\n",
      "https://blog.naver.com/e-koreatech\n",
      "블로그\n",
      "https://www.youtube.com/user/koreatecholei\n",
      "유트브\n"
     ]
    }
   ],
   "source": [
    "for i in range(len(temp)-1):\n",
    "    url = temp[i].split('\" target')[0]\n",
    "    url = url.split('href=\"')[1]\n",
    "    print(url)\n",
    "    name = temp[i].split('alt=\"')[1]\n",
    "    name = name[:name.find('\"')]\n",
    "    print(name)"
   ]
  },
  {
   "cell_type": "code",
   "execution_count": 3,
   "id": "e53fcb3a",
   "metadata": {},
   "outputs": [
    {
     "name": "stdout",
     "output_type": "stream",
     "text": [
      "  2 3 4 5\n"
     ]
    }
   ],
   "source": [
    "import re\n",
    "\n",
    "a = 'a,2,3,4,5'\n",
    "pattern = re.compile('[^0-9]')\n",
    "result = re.sub(pattern, ' ', a)\n",
    "print(result)"
   ]
  },
  {
   "cell_type": "code",
   "execution_count": 38,
   "id": "463c3a3c",
   "metadata": {},
   "outputs": [
    {
     "name": "stdout",
     "output_type": "stream",
     "text": [
      "홍길동: 1234, Gil-Dong Hong,\n",
      "    이길동: 3915, Gil-Dong Lee,\n",
      "    박길동: 0000, Gil-Dong Park\n"
     ]
    }
   ],
   "source": [
    "print(b)"
   ]
  },
  {
   "cell_type": "code",
   "execution_count": 40,
   "id": "41c5e776",
   "metadata": {},
   "outputs": [
    {
     "name": "stdout",
     "output_type": "stream",
     "text": [
      "홍길동                           이길동                          박길동                     \n"
     ]
    }
   ],
   "source": [
    "pattern = re.compile('[^가-힣]')\n",
    "result = re.sub(pattern, ' ', b)\n",
    "print(result)"
   ]
  },
  {
   "cell_type": "code",
   "execution_count": 42,
   "id": "10dcd7fe",
   "metadata": {},
   "outputs": [
    {
     "name": "stdout",
     "output_type": "stream",
     "text": [
      "\n",
      "        <div class=\"select_div\">\n",
      "            <span data-i18n=\"footer.relationSites\">연관사이트</span>\n",
      "            <ul>\n",
      "\n",
      "\n",
      "            </ul>\n",
      "        </div>\n",
      "        <ul class=\"list_sns\">\n",
      "            <li><a href=\"https://www.facebook.com/ekoreatech\" target=\"_blank\"><img src=\"/res/lms/img/common/btn_footer_sns1.png\" alt=\"페이스북\"></a></li>\n",
      "            <li><a href=\"https://blog.naver.com/e-koreatech\" target=\"_blank\"><img src=\"/res/lms/img/common/btn_footer_sns2.png\" alt=\"블로그\"></a></li>\n",
      "            <li><a href=\"https://www.youtube.com/user/koreatecholei\" target=\"_blank\"><img src=\"/res/lms/img/common/btn_footer_sns3.png\" alt=\"유트브\"></a></li>\n",
      "        </ul>\n",
      "\n"
     ]
    }
   ],
   "source": [
    "print(c)"
   ]
  },
  {
   "cell_type": "code",
   "execution_count": 45,
   "id": "88d68dae",
   "metadata": {},
   "outputs": [
    {
     "name": "stdout",
     "output_type": "stream",
     "text": [
      "<re.Match object; span=(205, 248), match='https://www.facebook.com/ekoreatech\" target'>\n",
      "https://www.facebook.com/ekoreatech\" target\n"
     ]
    }
   ],
   "source": [
    "pattern = re.compile('https://.*\" target')\n",
    "result = pattern.search(c)\n",
    "print(result)\n",
    "print(result.group())\n"
   ]
  },
  {
   "cell_type": "code",
   "execution_count": 46,
   "id": "80cfe7e4",
   "metadata": {},
   "outputs": [
    {
     "name": "stdout",
     "output_type": "stream",
     "text": [
      "https://www.facebook.com/ekoreatech\n"
     ]
    }
   ],
   "source": [
    "pattern = re.compile('[a-z:/.]*')\n",
    "result = pattern.search(result.group())\n",
    "print(result.group())"
   ]
  },
  {
   "cell_type": "code",
   "execution_count": 5,
   "id": "eee9b025",
   "metadata": {},
   "outputs": [
    {
     "name": "stdout",
     "output_type": "stream",
     "text": [
      "['movieId', 'title', 'genres']\n",
      "['1', 'Toy Story (1995)', 'Adventure|Animation|Children|Comedy|Fantasy']\n",
      "['2', 'Jumanji (1995)', 'Adventure|Children|Fantasy']\n",
      "['3', 'Grumpier Old Men (1995)', 'Comedy|Romance']\n",
      "['4', 'Waiting to Exhale (1995)', 'Comedy|Drama|Romance']\n"
     ]
    }
   ],
   "source": [
    "import csv\n",
    "\n",
    "f = open('ml-latest-small/movies.csv', 'r')\n",
    "data = csv.reader(f)\n",
    "print(next(data))\n",
    "print(next(data))\n",
    "print(next(data))\n",
    "print(next(data))\n",
    "print(next(data))\n",
    "f.close()"
   ]
  },
  {
   "cell_type": "code",
   "execution_count": 6,
   "id": "9fbf53db",
   "metadata": {},
   "outputs": [
    {
     "name": "stdout",
     "output_type": "stream",
     "text": [
      "전체 개수 >>>  22084\n"
     ]
    }
   ],
   "source": [
    "f = open('ml-latest-small/movies.csv', 'r', encoding='utf-8')\n",
    "data =csv.reader(f)\n",
    "next(data)\n",
    "\n",
    "result = []\n",
    "for i in data:\n",
    "    result.extend(i[2].split('|'))\n",
    "    \n",
    "# print(result)\n",
    "print('전체 개수 >>> ', len(result))"
   ]
  },
  {
   "cell_type": "code",
   "execution_count": 8,
   "id": "e5f45cb7",
   "metadata": {},
   "outputs": [
    {
     "name": "stdout",
     "output_type": "stream",
     "text": [
      "['IMAX', 'Mystery', 'Horror', 'Musical', 'Sci-Fi', 'Thriller', 'Western', 'Adventure', 'Crime', 'Drama', 'Comedy', 'Children', 'Documentary', 'Action', 'War', 'Romance', 'Film-Noir', '(no genres listed)', 'Fantasy', 'Animation']\n",
      "전체 개수 >>>> 20\n"
     ]
    }
   ],
   "source": [
    "genres = list(set(result)) # => set() 중복 제거\n",
    "print(genres)\n",
    "print('전체 개수 >>>>', len(genres))"
   ]
  },
  {
   "cell_type": "code",
   "execution_count": 11,
   "id": "26686407",
   "metadata": {},
   "outputs": [
    {
     "name": "stdout",
     "output_type": "stream",
     "text": [
      "{'Adventure': 1263, 'Animation': 611, 'Children': 664, 'Comedy': 3756, 'Fantasy': 779, 'Romance': 1596, 'Drama': 4361, 'Action': 1828, 'Crime': 1199, 'Thriller': 1894, 'Horror': 978, 'Mystery': 573, 'Sci-Fi': 980, 'War': 382, 'Musical': 334, 'Documentary': 440, 'IMAX': 158, 'Western': 167, 'Film-Noir': 87, '(no genres listed)': 34}\n"
     ]
    }
   ],
   "source": [
    "count = {}\n",
    "\n",
    "for i in result :\n",
    "    if count.get(i) :\n",
    "        count[i] += 1\n",
    "    else :\n",
    "        count[i] = 1\n",
    "    \n",
    "print(count)"
   ]
  },
  {
   "cell_type": "code",
   "execution_count": null,
   "id": "d3ac5bb6",
   "metadata": {},
   "outputs": [],
   "source": []
  },
  {
   "cell_type": "code",
   "execution_count": null,
   "id": "9a5951b3",
   "metadata": {},
   "outputs": [],
   "source": []
  },
  {
   "cell_type": "code",
   "execution_count": null,
   "id": "f8de5407",
   "metadata": {},
   "outputs": [],
   "source": []
  },
  {
   "cell_type": "code",
   "execution_count": null,
   "id": "e85be6f7",
   "metadata": {},
   "outputs": [],
   "source": []
  },
  {
   "cell_type": "code",
   "execution_count": null,
   "id": "e5bcac06",
   "metadata": {},
   "outputs": [],
   "source": []
  },
  {
   "cell_type": "code",
   "execution_count": null,
   "id": "ad94d9fe",
   "metadata": {},
   "outputs": [],
   "source": []
  },
  {
   "cell_type": "code",
   "execution_count": null,
   "id": "863f1fe6",
   "metadata": {},
   "outputs": [],
   "source": []
  }
 ],
 "metadata": {
  "kernelspec": {
   "display_name": "Python 3 (ipykernel)",
   "language": "python",
   "name": "python3"
  },
  "language_info": {
   "codemirror_mode": {
    "name": "ipython",
    "version": 3
   },
   "file_extension": ".py",
   "mimetype": "text/x-python",
   "name": "python",
   "nbconvert_exporter": "python",
   "pygments_lexer": "ipython3",
   "version": "3.9.13"
  }
 },
 "nbformat": 4,
 "nbformat_minor": 5
}
