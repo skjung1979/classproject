{
 "cells": [
  {
   "cell_type": "code",
   "execution_count": 1,
   "id": "4ed2834a",
   "metadata": {},
   "outputs": [],
   "source": [
    "# 주석은 #을 쓴다.\n",
    "# 숫자, 문자열, bool, 리스트, 튜플\n",
    "\n",
    "# type() = 데이터의 타입을 확인하는 (내장)함수"
   ]
  },
  {
   "cell_type": "code",
   "execution_count": 2,
   "id": "3b9dfc85",
   "metadata": {},
   "outputs": [
    {
     "name": "stdout",
     "output_type": "stream",
     "text": [
      "<class 'str'>\n"
     ]
    }
   ],
   "source": [
    "print(type('Hello!!!'))"
   ]
  },
  {
   "cell_type": "code",
   "execution_count": 3,
   "id": "96d648d3",
   "metadata": {},
   "outputs": [
    {
     "name": "stdout",
     "output_type": "stream",
     "text": [
      "<class 'int'>\n"
     ]
    }
   ],
   "source": [
    "print(type(3))"
   ]
  },
  {
   "cell_type": "code",
   "execution_count": 6,
   "id": "51ddeb0a",
   "metadata": {},
   "outputs": [
    {
     "name": "stdout",
     "output_type": "stream",
     "text": [
      "<class 'bool'>\n"
     ]
    }
   ],
   "source": [
    "print(type(True))"
   ]
  },
  {
   "cell_type": "code",
   "execution_count": 7,
   "id": "eeee2f8f",
   "metadata": {},
   "outputs": [
    {
     "name": "stdout",
     "output_type": "stream",
     "text": [
      "<class 'float'>\n"
     ]
    }
   ],
   "source": [
    "print(type(3.14))"
   ]
  },
  {
   "cell_type": "code",
   "execution_count": 8,
   "id": "fcf7e33c",
   "metadata": {},
   "outputs": [],
   "source": [
    "# str: 문자열 생성은 \"\" 혹은 ''로 만든다\n",
    "# \\(역슬래시) 문자를 통해서 \\\" \\' \\t \\n"
   ]
  },
  {
   "cell_type": "code",
   "execution_count": 10,
   "id": "86cbc7a3",
   "metadata": {},
   "outputs": [
    {
     "name": "stdout",
     "output_type": "stream",
     "text": [
      "\"안녕하세요.\" \n",
      " '정\t성균' 입니다.\n"
     ]
    }
   ],
   "source": [
    "print(\"\\\"안녕하세요.\\\" \\n \\'정\\t성균\\' 입니다.\") # 순서: 큰따옴표 넣기, 개행, 작은따옴표 넣기, 탭 간격 띄우기"
   ]
  },
  {
   "cell_type": "code",
   "execution_count": 11,
   "id": "f6776426",
   "metadata": {},
   "outputs": [
    {
     "name": "stdout",
     "output_type": "stream",
     "text": [
      "안녕하세요.\n",
      "저는 정성균입니다.\n",
      "프로그램을 공부하고 있습니다.\n",
      "취업을 해야합니다.\n"
     ]
    }
   ],
   "source": [
    "print(\"\"\"안녕하세요.\n",
    "저는 정성균입니다.\n",
    "프로그램을 공부하고 있습니다.\n",
    "취업을 해야합니다.\"\"\") # 큰따옴표를 3개 안에 텍스트를 넣으면 입력한대로 개행이 된다."
   ]
  },
  {
   "cell_type": "code",
   "execution_count": 12,
   "id": "68b43735",
   "metadata": {},
   "outputs": [
    {
     "name": "stdout",
     "output_type": "stream",
     "text": [
      "\n",
      "안녕하세요.\n",
      "저는 정성균입니다.\n",
      "프로그램을 공부하고 있습니다.\n",
      "취업을 해야합니다.\n",
      "\n"
     ]
    }
   ],
   "source": [
    "print(\"\"\"\n",
    "안녕하세요.\n",
    "저는 정성균입니다.\n",
    "프로그램을 공부하고 있습니다.\n",
    "취업을 해야합니다.\n",
    "\"\"\") # 가독성을 위해 위,아래에 엔터로 입력했는데 원치않는 개행을 처리할 경우 역슬래시를 입력해준다."
   ]
  },
  {
   "cell_type": "code",
   "execution_count": 13,
   "id": "19da2a7d",
   "metadata": {},
   "outputs": [
    {
     "name": "stdout",
     "output_type": "stream",
     "text": [
      "안녕하세요.\n",
      "저는 정성균입니다.\n",
      "프로그램을 공부하고 있습니다.\n",
      "취업을 해야합니다.\n"
     ]
    }
   ],
   "source": [
    "print(\"\"\"\\\n",
    "안녕하세요.\n",
    "저는 정성균입니다.\n",
    "프로그램을 공부하고 있습니다.\n",
    "취업을 해야합니다.\\\n",
    "\"\"\")"
   ]
  },
  {
   "cell_type": "code",
   "execution_count": 14,
   "id": "71ca13b6",
   "metadata": {},
   "outputs": [
    {
     "name": "stdout",
     "output_type": "stream",
     "text": [
      "안녕하세요.\n"
     ]
    }
   ],
   "source": [
    "print('안녕' + '하세요.')"
   ]
  },
  {
   "cell_type": "code",
   "execution_count": 15,
   "id": "9dc30a6d",
   "metadata": {},
   "outputs": [
    {
     "ename": "TypeError",
     "evalue": "can only concatenate str (not \"int\") to str",
     "output_type": "error",
     "traceback": [
      "\u001b[1;31m---------------------------------------------------------------------------\u001b[0m",
      "\u001b[1;31mTypeError\u001b[0m                                 Traceback (most recent call last)",
      "\u001b[1;32m~\\AppData\\Local\\Temp\\ipykernel_14512\\1656375209.py\u001b[0m in \u001b[0;36m<module>\u001b[1;34m\u001b[0m\n\u001b[1;32m----> 1\u001b[1;33m \u001b[0mprint\u001b[0m\u001b[1;33m(\u001b[0m\u001b[1;34m'안녕'\u001b[0m \u001b[1;33m+\u001b[0m \u001b[1;36m10\u001b[0m\u001b[1;33m)\u001b[0m\u001b[1;33m\u001b[0m\u001b[1;33m\u001b[0m\u001b[0m\n\u001b[0m",
      "\u001b[1;31mTypeError\u001b[0m: can only concatenate str (not \"int\") to str"
     ]
    }
   ],
   "source": [
    "print('안녕' + 10) # print('안녕' + '10') 이렇게 변경"
   ]
  },
  {
   "cell_type": "code",
   "execution_count": 22,
   "id": "5642360e",
   "metadata": {},
   "outputs": [
    {
     "name": "stdout",
     "output_type": "stream",
     "text": [
      "안녕하세요\n",
      "안녕하세요\n",
      "안녕하세요\n",
      "안녕하세요\n",
      "안녕하세요\n",
      "\n"
     ]
    }
   ],
   "source": [
    "print('안녕하세요\\n' * 5)"
   ]
  },
  {
   "cell_type": "code",
   "execution_count": 23,
   "id": "1b626596",
   "metadata": {},
   "outputs": [],
   "source": [
    "# str => 문자들의 집합\n",
    "# 인텍식 사용 가능! => 배열의 인덱스처럼 사용 가능\n",
    "# 인덱스: 0 ~ N-1까지"
   ]
  },
  {
   "cell_type": "code",
   "execution_count": 27,
   "id": "e9cd71ab",
   "metadata": {},
   "outputs": [
    {
     "name": "stdout",
     "output_type": "stream",
     "text": [
      "안\n",
      "녕\n",
      "하\n",
      "세\n",
      "요\n",
      ".\n"
     ]
    },
    {
     "ename": "IndexError",
     "evalue": "string index out of range",
     "output_type": "error",
     "traceback": [
      "\u001b[1;31m---------------------------------------------------------------------------\u001b[0m",
      "\u001b[1;31mIndexError\u001b[0m                                Traceback (most recent call last)",
      "\u001b[1;32m~\\AppData\\Local\\Temp\\ipykernel_14512\\4167879328.py\u001b[0m in \u001b[0;36m<module>\u001b[1;34m\u001b[0m\n\u001b[0;32m      5\u001b[0m \u001b[0mprint\u001b[0m\u001b[1;33m(\u001b[0m\u001b[1;34m'안녕하세요.'\u001b[0m\u001b[1;33m[\u001b[0m\u001b[1;36m4\u001b[0m\u001b[1;33m]\u001b[0m\u001b[1;33m)\u001b[0m\u001b[1;33m\u001b[0m\u001b[1;33m\u001b[0m\u001b[0m\n\u001b[0;32m      6\u001b[0m \u001b[0mprint\u001b[0m\u001b[1;33m(\u001b[0m\u001b[1;34m'안녕하세요.'\u001b[0m\u001b[1;33m[\u001b[0m\u001b[1;36m5\u001b[0m\u001b[1;33m]\u001b[0m\u001b[1;33m)\u001b[0m\u001b[1;33m\u001b[0m\u001b[1;33m\u001b[0m\u001b[0m\n\u001b[1;32m----> 7\u001b[1;33m \u001b[0mprint\u001b[0m\u001b[1;33m(\u001b[0m\u001b[1;34m'안녕하세요.'\u001b[0m\u001b[1;33m[\u001b[0m\u001b[1;36m6\u001b[0m\u001b[1;33m]\u001b[0m\u001b[1;33m)\u001b[0m\u001b[1;33m\u001b[0m\u001b[1;33m\u001b[0m\u001b[0m\n\u001b[0m",
      "\u001b[1;31mIndexError\u001b[0m: string index out of range"
     ]
    }
   ],
   "source": [
    "print('안녕하세요.'[0])\n",
    "print('안녕하세요.'[1])\n",
    "print('안녕하세요.'[2])\n",
    "print('안녕하세요.'[3])\n",
    "print('안녕하세요.'[4])\n",
    "print('안녕하세요.'[5])\n",
    "print('안녕하세요.'[6])"
   ]
  },
  {
   "cell_type": "code",
   "execution_count": 30,
   "id": "54cbca02",
   "metadata": {},
   "outputs": [
    {
     "name": "stdout",
     "output_type": "stream",
     "text": [
      ".\n",
      "요\n",
      "세\n",
      "하\n",
      "녕\n",
      "안\n"
     ]
    }
   ],
   "source": [
    "print('안녕하세요.'[-1])\n",
    "print('안녕하세요.'[-2])\n",
    "print('안녕하세요.'[-3])\n",
    "print('안녕하세요.'[-4])\n",
    "print('안녕하세요.'[-5])\n",
    "print('안녕하세요.'[-6])"
   ]
  },
  {
   "cell_type": "code",
   "execution_count": 31,
   "id": "dbce41dd",
   "metadata": {},
   "outputs": [],
   "source": [
    "# [] => 스라이싱: 범위 선택 가능!\n",
    "# [시작인덱스:종료인덱스위치] => 종료인덱스는 출력되지 않는다! 종료인덱스 -1까지 출력됨!\n",
    "# 시작 인덱스를 생략하는 경우: [ :4] => 0부터 3까지 출력\n",
    "# 종료 인덱스를 생략하는 경우: {2: } => 2부터 끝까지 출력"
   ]
  },
  {
   "cell_type": "code",
   "execution_count": 32,
   "id": "aa8959f1",
   "metadata": {},
   "outputs": [
    {
     "name": "stdout",
     "output_type": "stream",
     "text": [
      "녕하세\n"
     ]
    }
   ],
   "source": [
    "print('안녕하세요.'[1:4])"
   ]
  },
  {
   "cell_type": "code",
   "execution_count": 33,
   "id": "1a7ed3e5",
   "metadata": {},
   "outputs": [
    {
     "name": "stdout",
     "output_type": "stream",
     "text": [
      "안녕하세\n"
     ]
    }
   ],
   "source": [
    "print('안녕하세요.'[:4])"
   ]
  },
  {
   "cell_type": "code",
   "execution_count": 34,
   "id": "965e4f44",
   "metadata": {},
   "outputs": [
    {
     "name": "stdout",
     "output_type": "stream",
     "text": [
      "하세요.\n"
     ]
    }
   ],
   "source": [
    "print('안녕하세요.'[2:])"
   ]
  },
  {
   "cell_type": "code",
   "execution_count": 35,
   "id": "213a2609",
   "metadata": {},
   "outputs": [],
   "source": [
    "# 숫자 타입\n",
    "# 정수: int, 실수: float\n",
    "# 기본 사칙연산: + , - , * , / , %\n",
    "# 정수 나누기: //\n",
    "# 제곱 연산: **"
   ]
  },
  {
   "cell_type": "code",
   "execution_count": 38,
   "id": "0891fca9",
   "metadata": {},
   "outputs": [
    {
     "name": "stdout",
     "output_type": "stream",
     "text": [
      "3\n",
      "3.3333333333333335\n",
      "2\n",
      "27\n"
     ]
    }
   ],
   "source": [
    "print(1 + 2)\n",
    "print(10 / 3)\n",
    "print(10 // 4) # 결과를 정수로 반환, 소수점을 버림\n",
    "print(3**3) # 제곱"
   ]
  },
  {
   "cell_type": "code",
   "execution_count": 39,
   "id": "0979577a",
   "metadata": {},
   "outputs": [],
   "source": [
    "# 변수의 사용\n",
    "# 변수 = 데이터   이렇게 대입 해 주면 된다.\n",
    "# 복합 대입 연산자 사용 가능"
   ]
  },
  {
   "cell_type": "code",
   "execution_count": 40,
   "id": "9f0bcfba",
   "metadata": {},
   "outputs": [],
   "source": [
    "pi = 3.14\n",
    "r =2"
   ]
  },
  {
   "cell_type": "code",
   "execution_count": 41,
   "id": "a5ac205d",
   "metadata": {},
   "outputs": [
    {
     "name": "stdout",
     "output_type": "stream",
     "text": [
      "원주율 =>  3.14 반지름 =>  2\n"
     ]
    }
   ],
   "source": [
    "print('원주율 => ', pi, '반지름 => ', r)"
   ]
  },
  {
   "cell_type": "code",
   "execution_count": 42,
   "id": "7ad8ea50",
   "metadata": {},
   "outputs": [],
   "source": [
    "# 캐스팅 함수\n",
    "# 문자열 => 정수 : int()\n",
    "# 문자열 => 실수 : float()\n",
    "# 숫자 => 문자열 : str()"
   ]
  },
  {
   "cell_type": "code",
   "execution_count": 43,
   "id": "f6d20241",
   "metadata": {},
   "outputs": [],
   "source": [
    "# 문자열을 다루는 함수\n",
    "# format()\n",
    "# upper()  lower()\n",
    "# strip()  lstrip()  rstrip()\n",
    "# find()\n",
    "# split()\n",
    "# is000\n",
    "# in 연산자"
   ]
  },
  {
   "cell_type": "code",
   "execution_count": 54,
   "id": "05f91836",
   "metadata": {},
   "outputs": [],
   "source": [
    "# format: 문자열 포맷팅\n",
    "a = 200\n",
    "format_a = '{} 만원'.format(a)\n",
    "format_b = '{} {} {} {}'.format(a, 400, 'string', True)"
   ]
  },
  {
   "cell_type": "code",
   "execution_count": 49,
   "id": "be224f76",
   "metadata": {},
   "outputs": [
    {
     "name": "stdout",
     "output_type": "stream",
     "text": [
      "200 만원\n"
     ]
    }
   ],
   "source": [
    "print(format_a)"
   ]
  },
  {
   "cell_type": "code",
   "execution_count": 55,
   "id": "df5be518",
   "metadata": {},
   "outputs": [
    {
     "name": "stdout",
     "output_type": "stream",
     "text": [
      "200 400 string True\n"
     ]
    }
   ],
   "source": [
    "print(format_b)"
   ]
  },
  {
   "cell_type": "code",
   "execution_count": 60,
   "id": "265d0608",
   "metadata": {},
   "outputs": [
    {
     "name": "stdout",
     "output_type": "stream",
     "text": [
      "###   hello   ###\n",
      "###hello###\n",
      "###hello   ###\n",
      "###   hello###\n"
     ]
    }
   ],
   "source": [
    "# strip\n",
    "str1 = '   hello   '\n",
    "print('###' + str1 + '###')\n",
    "print('###' + str1.strip() + '###')\n",
    "print('###' + str1.lstrip() + '###')\n",
    "print('###' + str1.rstrip() + '###')"
   ]
  },
  {
   "cell_type": "code",
   "execution_count": 63,
   "id": "9131f265",
   "metadata": {},
   "outputs": [
    {
     "name": "stdout",
     "output_type": "stream",
     "text": [
      "2\n"
     ]
    }
   ],
   "source": [
    "# find() : 문자열을 포함하는 위치 인덱스(문자열의 시작 인덱스)를 반환\n",
    "result1 = '안녕하세요.'.find('하세요')\n",
    "print(result1)"
   ]
  },
  {
   "cell_type": "code",
   "execution_count": 66,
   "id": "73951089",
   "metadata": {},
   "outputs": [
    {
     "name": "stdout",
     "output_type": "stream",
     "text": [
      "<class 'list'> ['1', '2', '3', '4', '5', '6', '7', '8', '9']\n"
     ]
    }
   ],
   "source": [
    "# split(): 문자열을 첨자로 나누고 각 나누어진 결과를 리스트로 반환\n",
    "list_1 = '1 2 3 4 5 6 7 8 9'.split(' ')\n",
    "print(type(list_1), list_1)"
   ]
  },
  {
   "cell_type": "code",
   "execution_count": 71,
   "id": "e4ac4337",
   "metadata": {},
   "outputs": [
    {
     "name": "stdout",
     "output_type": "stream",
     "text": [
      "True\n",
      "False\n",
      "True\n",
      "False\n"
     ]
    }
   ],
   "source": [
    "# is000 : 문자열의 구성 파악\n",
    "print('test123'.isalnum()) # is => 이니? , al => 알파벳 , num => 숫자\n",
    "print('test123!@#'.isalnum())\n",
    "print('1000'.isdigit()) # 해당 문자열을 숫자화 할 수 있니?\n",
    "print('1000원'.isdigit())"
   ]
  },
  {
   "cell_type": "code",
   "execution_count": 72,
   "id": "3cee1cf7",
   "metadata": {},
   "outputs": [
    {
     "name": "stdout",
     "output_type": "stream",
     "text": [
      "True\n",
      "False\n"
     ]
    }
   ],
   "source": [
    "# in 연산자\n",
    "print('안' in '안녕하세요')\n",
    "print('안영' in '안녕하세요')"
   ]
  },
  {
   "cell_type": "code",
   "execution_count": 76,
   "id": "633d40e9",
   "metadata": {},
   "outputs": [
    {
     "name": "stdout",
     "output_type": "stream",
     "text": [
      "정수 입력 >>> -5\n",
      "음수\n"
     ]
    }
   ],
   "source": [
    "# 흐름제어\n",
    "# if\n",
    "\n",
    "num1 = input('정수 입력 >>> ') # input 함수는 문자열을 반환한다.\n",
    "num2 = int(num1)\n",
    "\n",
    "if num2 > 0 :\n",
    "    print('양수')\n",
    "\n",
    "if num2 < 0 :\n",
    "    print('음수')\n",
    "    \n",
    "if num2 == 0 :\n",
    "    print('0')"
   ]
  },
  {
   "cell_type": "code",
   "execution_count": 80,
   "id": "5e3aef88",
   "metadata": {},
   "outputs": [
    {
     "name": "stdout",
     "output_type": "stream",
     "text": [
      "5\n",
      "양수\n"
     ]
    }
   ],
   "source": [
    "# 흐름제어\n",
    "# if , elif , else\n",
    "\n",
    "num1 = input('정수 입력 >>> ') # input 함수는 문자열을 반환한다.\n",
    "num2 = int(num1)\n",
    "\n",
    "if num2 > 0 :\n",
    "    print('양수')\n",
    "elif num2 < 0 :\n",
    "    print('음수')\n",
    "else :\n",
    "    print('0')"
   ]
  },
  {
   "cell_type": "code",
   "execution_count": 81,
   "id": "2fc71e0b",
   "metadata": {},
   "outputs": [
    {
     "name": "stdout",
     "output_type": "stream",
     "text": [
      "0은 False\n"
     ]
    }
   ],
   "source": [
    "# 0은 False\n",
    "\n",
    "if 0 :\n",
    "    print('0은 True')\n",
    "else :\n",
    "    print('0은 False')"
   ]
  },
  {
   "cell_type": "code",
   "execution_count": 82,
   "id": "e6576fd6",
   "metadata": {},
   "outputs": [
    {
     "name": "stdout",
     "output_type": "stream",
     "text": [
      "공백 문자열은 False\n"
     ]
    }
   ],
   "source": [
    "# 공백 문자열은 False\n",
    "\n",
    "if \"\" :\n",
    "    print('공백 문자열은 True')\n",
    "else :\n",
    "    print('공백 문자열은 False')"
   ]
  },
  {
   "cell_type": "code",
   "execution_count": 83,
   "id": "975c8f75",
   "metadata": {},
   "outputs": [
    {
     "name": "stdout",
     "output_type": "stream",
     "text": [
      "비어있는 리스트는 False\n"
     ]
    }
   ],
   "source": [
    "# 비어있는 리스트(배열)은 False\n",
    "\n",
    "if [] :\n",
    "    print('비어있는 리스트는 True')\n",
    "else :\n",
    "    print('비어있는 리스트는 False')\n",
    "    \n",
    "# None : 함수에서 반환 값이 없을 때 반환되는 값 => False"
   ]
  },
  {
   "cell_type": "code",
   "execution_count": 84,
   "id": "79e4a73e",
   "metadata": {},
   "outputs": [
    {
     "ename": "IndentationError",
     "evalue": "expected an indented block (269924029.py, line 6)",
     "output_type": "error",
     "traceback": [
      "\u001b[1;36m  File \u001b[1;32m\"C:\\Users\\skjung_gram\\AppData\\Local\\Temp\\ipykernel_14512\\269924029.py\"\u001b[1;36m, line \u001b[1;32m6\u001b[0m\n\u001b[1;33m    else :\u001b[0m\n\u001b[1;37m    ^\u001b[0m\n\u001b[1;31mIndentationError\u001b[0m\u001b[1;31m:\u001b[0m expected an indented block\n"
     ]
    }
   ],
   "source": [
    "# pass 키워드 미 적용하고 작업을 비워둘 경우 => 에러 발생!!!!\n",
    "\n",
    "num3 = 10\n",
    "if num3 > 0 :\n",
    "    \n",
    "else :\n",
    "    "
   ]
  },
  {
   "cell_type": "code",
   "execution_count": 85,
   "id": "c0f9d994",
   "metadata": {},
   "outputs": [],
   "source": [
    "# 위는 에러가 나지만 pass 키워드를 넣으면 오류 발생 안함!!!\n",
    "# pass 키워드\n",
    "\n",
    "num3 = 10\n",
    "if num3 > 0 :\n",
    "    pass\n",
    "else :\n",
    "    pass"
   ]
  },
  {
   "cell_type": "code",
   "execution_count": 92,
   "id": "e878a2b4",
   "metadata": {},
   "outputs": [
    {
     "name": "stdout",
     "output_type": "stream",
     "text": [
      "55\n",
      "문자열\n",
      "자 문자\n",
      "참\n",
      "[10, 900, 55, '문자열', False, False]\n"
     ]
    }
   ],
   "source": [
    "# list 자료형 : 배열과 비슷한 형태, 집합과 같이 데이터들을 묶어서 사용\n",
    "# 데이터들의 타입은 일치하지 않아도 된다.\n",
    "# [] 사용, 인덱스값을 통해서 참조\n",
    "\n",
    "list_temp = [10, 900, 55, '문자열', True, False]\n",
    "\n",
    "print(list_temp[2])\n",
    "print(list_temp[3])\n",
    "print(list_temp[3][1], list_temp[3][:2])\n",
    "\n",
    "if list_temp[-2] :\n",
    "    print('참')\n",
    "    list_temp[-2] = False\n",
    "    \n",
    "print(list_temp)"
   ]
  },
  {
   "cell_type": "code",
   "execution_count": 94,
   "id": "c59a478f",
   "metadata": {},
   "outputs": [],
   "source": [
    "# list 연산: + , - , * , / , "
   ]
  },
  {
   "cell_type": "code",
   "execution_count": 110,
   "id": "61b75963",
   "metadata": {},
   "outputs": [
    {
     "name": "stdout",
     "output_type": "stream",
     "text": [
      "[1, 2, 3, 4, 5, 6]\n",
      "[1, 2, 3]\n",
      "[4, 5, 6]\n",
      "list_a 리스트의 요소의 개수 =>  3\n",
      ".append(4) 요소 추가 =>  [1, 2, 3, 4]\n",
      ".insert(0, 10) 0번지에 10을 추가 =>  [10, 1, 2, 3, 4]\n",
      "원본 리스트에 데이터를 추가 =>  [4, 5, 6, 100, 500, 874]\n",
      "[4, 5, 6, 100, 874]\n",
      ".pop(4)로 삭제 =>  [4, 5, 6, 100]\n",
      "삭제 remove [4, 5, 6]\n",
      "[1, 4, 5, 6, 7, 8, 9]\n",
      "[6, 7, 8, 9]\n",
      "전체 삭제 clear() =>  []\n",
      "True\n"
     ]
    }
   ],
   "source": [
    "# + 연산: 리스트의 연결 => 새로운 리스트 생성 <= 원본은 바뀌지 않는다.\n",
    "list_a = [1, 2, 3]\n",
    "list_b = [4, 5, 6]\n",
    "\n",
    "print(list_a + list_b)\n",
    "print(list_a)\n",
    "print(list_b)\n",
    "print('list_a 리스트의 요소의 개수 => ', len(list_a))\n",
    "\n",
    "# 함수: len() , extend() , append() , insert() , del() , remove() , clear()\n",
    "\n",
    "list_a.append(4)\n",
    "print('.append(4) 요소 추가 => ', list_a)\n",
    "\n",
    "list_a.insert(0, 10) # 0번지에 10을 넣는다.\n",
    "print('.insert(0, 10) 0번지에 10을 추가 => ', list_a)\n",
    "\n",
    "list_b.extend([100, 500, 874])\n",
    "print('원본 리스트에 데이터를 추가 => ', list_b)\n",
    "\n",
    "del list_b[4] # 4번지 삭제\n",
    "print(list_b)\n",
    "\n",
    "list_b.pop(4) # 4번지 삭제\n",
    "print('.pop(4)로 삭제 => ',list_b)\n",
    "\n",
    "list_b.remove(100) # 값이 100인것 제거\n",
    "print('삭제 remove', list_b)\n",
    "\n",
    "list_c = [1,2,3,4,5,6,7,8,9]\n",
    "del list_c[1:3] # 1번지, 2번지 값 삭제\n",
    "print(list_c)\n",
    "\n",
    "del list_c[:3] # 0~2번지 값 삭제\n",
    "print(list_c)\n",
    "\n",
    "list_c.clear()\n",
    "print('전체 삭제 clear() => ', list_c)\n",
    "\n",
    "print(5 in list_b)"
   ]
  },
  {
   "cell_type": "code",
   "execution_count": 112,
   "id": "54654cd9",
   "metadata": {},
   "outputs": [
    {
     "name": "stdout",
     "output_type": "stream",
     "text": [
      "0\n",
      "1\n",
      "2\n",
      "3\n",
      "4\n",
      "4\n",
      "5\n",
      "6\n"
     ]
    }
   ],
   "source": [
    "# for 반복문\n",
    "\n",
    "for i in range(5): # 0~4까지 반복\n",
    "    print(i)\n",
    "    \n",
    "for item in list_b:\n",
    "    print(item)"
   ]
  },
  {
   "cell_type": "code",
   "execution_count": 2,
   "id": "5ca5dda7",
   "metadata": {},
   "outputs": [
    {
     "name": "stdout",
     "output_type": "stream",
     "text": [
      "<class 'dict'> {}\n"
     ]
    }
   ],
   "source": [
    "# 딕셔너리: 리스트처럼 데이터를 묶음으로 저장\n",
    "# 저장: key, value 형식으로 저장\n",
    "# 참조: key값으로 참조\n",
    "\n",
    "dic_a = {}\n",
    "print(type(dic_a), dic_a)"
   ]
  },
  {
   "cell_type": "code",
   "execution_count": 6,
   "id": "637ffb98",
   "metadata": {},
   "outputs": [
    {
     "name": "stdout",
     "output_type": "stream",
     "text": [
      "[1, 2, 3, 4, 5, 1, 2, 3]\n",
      "{1, 2, 3, 4, 5}\n"
     ]
    }
   ],
   "source": [
    "dic_b = {1,2,3,4,5,1,2,3}\n",
    "list_a1 = [1,2,3,4,5,1,2,3]\n",
    "print(list_a1) # 리스트의 데이터는 중복되지만,\n",
    "print(dic_b) # 딕셔너리의 데이터는 중복되지 않는다."
   ]
  },
  {
   "cell_type": "code",
   "execution_count": 9,
   "id": "9e8a8fda",
   "metadata": {},
   "outputs": [
    {
     "name": "stdout",
     "output_type": "stream",
     "text": [
      "{'no': 7, 'name': '손흥민', 'position': '스트라이터'}\n",
      "7\n",
      "손흥민\n",
      "스트라이터\n"
     ]
    }
   ],
   "source": [
    "dic_c = {\n",
    "    'no' : 7,\n",
    "    'name' : '손흥민',\n",
    "    'position' : '스트라이터'\n",
    "}\n",
    "print(dic_c)\n",
    "print(dic_c['no'])\n",
    "print(dic_c['name'])\n",
    "print(dic_c['position'])"
   ]
  },
  {
   "cell_type": "code",
   "execution_count": 10,
   "id": "bc90de89",
   "metadata": {},
   "outputs": [
    {
     "name": "stdout",
     "output_type": "stream",
     "text": [
      "{'no': 7, 'name': '손흥민', 'position': '스트라이터', 'team': '토트넘'}\n"
     ]
    }
   ],
   "source": [
    "dic_c['team'] = '토트넘' # 요소(키+값) 추가\n",
    "print(dic_c)"
   ]
  },
  {
   "cell_type": "code",
   "execution_count": 12,
   "id": "49c94402",
   "metadata": {},
   "outputs": [
    {
     "name": "stdout",
     "output_type": "stream",
     "text": [
      "{'no': 7, 'name': '손흥민', 'position': '스트라이터'}\n"
     ]
    }
   ],
   "source": [
    "del dic_c['team']\n",
    "print(dic_c)"
   ]
  },
  {
   "cell_type": "code",
   "execution_count": 14,
   "id": "efaf9211",
   "metadata": {},
   "outputs": [
    {
     "ename": "KeyError",
     "evalue": "'team'",
     "output_type": "error",
     "traceback": [
      "\u001b[1;31m---------------------------------------------------------------------------\u001b[0m",
      "\u001b[1;31mKeyError\u001b[0m                                  Traceback (most recent call last)",
      "\u001b[1;32m~\\AppData\\Local\\Temp\\ipykernel_7608\\3681583083.py\u001b[0m in \u001b[0;36m<module>\u001b[1;34m\u001b[0m\n\u001b[1;32m----> 1\u001b[1;33m \u001b[0mprint\u001b[0m\u001b[1;33m(\u001b[0m\u001b[0mdic_c\u001b[0m\u001b[1;33m[\u001b[0m\u001b[1;34m'team'\u001b[0m\u001b[1;33m]\u001b[0m\u001b[1;33m)\u001b[0m\u001b[1;33m\u001b[0m\u001b[1;33m\u001b[0m\u001b[0m\n\u001b[0m",
      "\u001b[1;31mKeyError\u001b[0m: 'team'"
     ]
    }
   ],
   "source": [
    "print(dic_c['team'])"
   ]
  },
  {
   "cell_type": "code",
   "execution_count": 15,
   "id": "e19307b8",
   "metadata": {
    "scrolled": true
   },
   "outputs": [
    {
     "name": "stdout",
     "output_type": "stream",
     "text": [
      "None\n"
     ]
    }
   ],
   "source": [
    "print(dic_c.get('team'))"
   ]
  },
  {
   "cell_type": "code",
   "execution_count": 16,
   "id": "800878db",
   "metadata": {},
   "outputs": [
    {
     "name": "stdout",
     "output_type": "stream",
     "text": [
      "손흥민\n"
     ]
    }
   ],
   "source": [
    "key = 'name'\n",
    "if key in dic_c :\n",
    "    print(dic_c[key])\n",
    "else :\n",
    "    print(\"존재하지 않는 key\")"
   ]
  },
  {
   "cell_type": "code",
   "execution_count": 17,
   "id": "653090ec",
   "metadata": {},
   "outputs": [
    {
     "name": "stdout",
     "output_type": "stream",
     "text": [
      "존재하지 않는 key\n"
     ]
    }
   ],
   "source": [
    "key = 'team'\n",
    "if key in dic_c :\n",
    "    print(dic_c[key])\n",
    "else :\n",
    "    print(\"존재하지 않는 key\")"
   ]
  },
  {
   "cell_type": "code",
   "execution_count": 19,
   "id": "5e61645a",
   "metadata": {},
   "outputs": [
    {
     "name": "stdout",
     "output_type": "stream",
     "text": [
      "None\n",
      "존재하지 않는 Key!\n"
     ]
    }
   ],
   "source": [
    "playerName = dic_c.get('team')\n",
    "print(playerName)\n",
    "if playerName == None :\n",
    "    print('존재하지 않는 Key!')"
   ]
  },
  {
   "cell_type": "code",
   "execution_count": 21,
   "id": "b4cbdbf5",
   "metadata": {},
   "outputs": [
    {
     "name": "stdout",
     "output_type": "stream",
     "text": [
      "no 7\n",
      "name 손흥민\n",
      "position 스트라이터\n"
     ]
    }
   ],
   "source": [
    "for key in dic_c : #dic_c의 키 리스트를 출력!!!\n",
    "    print(key, dic_c[key])"
   ]
  },
  {
   "cell_type": "code",
   "execution_count": 22,
   "id": "75b812b8",
   "metadata": {},
   "outputs": [],
   "source": [
    "# range() : 특정 범위의 숫자를 생성\n",
    "# range(n) : 0부터 n-1까지 범위의 숫자 생성\n",
    "# range(index, n, step) : index ~ n-1, step만큼 증가"
   ]
  },
  {
   "cell_type": "code",
   "execution_count": 31,
   "id": "d74ab90c",
   "metadata": {},
   "outputs": [
    {
     "name": "stdout",
     "output_type": "stream",
     "text": [
      "<class 'range'> range(1, 11, 3)\n",
      "[1, 4, 7, 10]\n",
      "1\n",
      "4\n",
      "7\n",
      "10\n"
     ]
    }
   ],
   "source": [
    "a = range(1, 10+1, 3)\n",
    "print(type(a), a)\n",
    "\n",
    "list_b = list(a)\n",
    "print(list_b)\n",
    "\n",
    "for i in a:\n",
    "    print(i)"
   ]
  },
  {
   "cell_type": "code",
   "execution_count": 33,
   "id": "701c957e",
   "metadata": {},
   "outputs": [
    {
     "name": "stdout",
     "output_type": "stream",
     "text": [
      "1 1\n",
      "7 2\n",
      "11 3\n",
      "99 4\n",
      "54 5\n",
      "26 6\n"
     ]
    }
   ],
   "source": [
    "list_c = [1,7,11,99,54, 26]\n",
    "\n",
    "cnt = 0\n",
    "\n",
    "for item in list_c :\n",
    "    cnt += 1\n",
    "    print(item, cnt)"
   ]
  },
  {
   "cell_type": "code",
   "execution_count": 34,
   "id": "af7191e6",
   "metadata": {},
   "outputs": [
    {
     "name": "stdout",
     "output_type": "stream",
     "text": [
      "1 1\n",
      "2 7\n",
      "3 11\n",
      "4 99\n",
      "5 54\n",
      "6 26\n"
     ]
    }
   ],
   "source": [
    "for i in range(len(list_c)) :\n",
    "    print(i+1, list_c[i])"
   ]
  },
  {
   "cell_type": "code",
   "execution_count": 35,
   "id": "937707b7",
   "metadata": {},
   "outputs": [
    {
     "name": "stdout",
     "output_type": "stream",
     "text": [
      "5\n",
      "4\n",
      "3\n",
      "2\n",
      "1\n"
     ]
    }
   ],
   "source": [
    "for i in range(5, 0, -1) :\n",
    "    print(i)"
   ]
  },
  {
   "cell_type": "code",
   "execution_count": 37,
   "id": "5bff0848",
   "metadata": {},
   "outputs": [
    {
     "name": "stdout",
     "output_type": "stream",
     "text": [
      "5\n",
      "4\n",
      "3\n",
      "2\n",
      "1\n"
     ]
    }
   ],
   "source": [
    "for i in reversed(range(1, 5+1)) :\n",
    "    print(i)"
   ]
  },
  {
   "cell_type": "code",
   "execution_count": 40,
   "id": "d34b1712",
   "metadata": {},
   "outputs": [
    {
     "name": "stdout",
     "output_type": "stream",
     "text": [
      "0\n",
      "1\n",
      "2\n",
      "3\n",
      "4\n"
     ]
    }
   ],
   "source": [
    "# while : 반복문 => 조건의 결과를 True로 하는 경우 사용\n",
    "\n",
    "i = 0\n",
    "while i<5 :\n",
    "    print(i)\n",
    "    i += 1"
   ]
  },
  {
   "cell_type": "code",
   "execution_count": 42,
   "id": "b2337c61",
   "metadata": {},
   "outputs": [
    {
     "name": "stdout",
     "output_type": "stream",
     "text": [
      "[1, 2, 1, 2]\n",
      "[2, 2]\n"
     ]
    }
   ],
   "source": [
    "list_d = [1,2,1,2,]\n",
    "print(list_d)\n",
    "# list_d.remove(1) # 첫번째 발견한 값1만 지운다\n",
    "\n",
    "while 1 in list_d :\n",
    "    list_d.remove(1)\n",
    "\n",
    "print(list_d)"
   ]
  },
  {
   "cell_type": "code",
   "execution_count": 43,
   "id": "ded9ec2d",
   "metadata": {},
   "outputs": [],
   "source": [
    "# 함수 : input -> 처리 -> return\n",
    "# 매개변수 처리 -> 가변 매개변수, 매개변수의 기본값\n",
    "# def 함수이름() : ... return"
   ]
  },
  {
   "cell_type": "code",
   "execution_count": 44,
   "id": "db831588",
   "metadata": {},
   "outputs": [
    {
     "name": "stdout",
     "output_type": "stream",
     "text": [
      "안녕!!!\n",
      "안녕!!!\n",
      "안녕!!!\n"
     ]
    }
   ],
   "source": [
    "def print_3() :\n",
    "    print('안녕!!!')\n",
    "    print('안녕!!!')\n",
    "    print('안녕!!!')\n",
    "    \n",
    "print_3()"
   ]
  },
  {
   "cell_type": "code",
   "execution_count": 45,
   "id": "0b4205ea",
   "metadata": {
    "scrolled": true
   },
   "outputs": [
    {
     "name": "stdout",
     "output_type": "stream",
     "text": [
      "안녕하십니까불이~\n",
      "안녕하십니까불이~\n",
      "안녕하십니까불이~\n",
      "안녕하십니까불이~\n",
      "안녕하십니까불이~\n"
     ]
    }
   ],
   "source": [
    "def print_times(value, n) :\n",
    "    for i in range(n) :\n",
    "        print(value)\n",
    "        \n",
    "print_times('안녕하십니까불이~', 5)"
   ]
  },
  {
   "cell_type": "code",
   "execution_count": 50,
   "id": "fd254d74",
   "metadata": {},
   "outputs": [
    {
     "name": "stdout",
     "output_type": "stream",
     "text": [
      "a\n",
      "b\n",
      "c\n",
      "-------\n",
      "a\n",
      "b\n",
      "c\n",
      "-------\n",
      "a\n",
      "b\n",
      "c\n",
      "-------\n"
     ]
    }
   ],
   "source": [
    "def print_n_times(n, *values) :\n",
    "    for i in range(n) :\n",
    "        for value in values :\n",
    "            print(value)\n",
    "        print('-------')\n",
    "        \n",
    "print_n_times(3, 'a', 'b', 'c')"
   ]
  },
  {
   "cell_type": "code",
   "execution_count": 52,
   "id": "c6a7fae9",
   "metadata": {},
   "outputs": [
    {
     "name": "stdout",
     "output_type": "stream",
     "text": [
      "a\n",
      "b\n",
      "c\n",
      "5\n",
      "-------\n",
      "a\n",
      "b\n",
      "c\n",
      "5\n",
      "-------\n",
      "a\n",
      "b\n",
      "c\n",
      "-------\n",
      "a\n",
      "b\n",
      "c\n",
      "-------\n",
      "a\n",
      "b\n",
      "c\n",
      "-------\n",
      "a\n",
      "b\n",
      "c\n",
      "-------\n",
      "a\n",
      "b\n",
      "c\n",
      "-------\n"
     ]
    }
   ],
   "source": [
    "def print_n_times(*values, n=2) :\n",
    "    for i in range(n) :\n",
    "        for value in values :\n",
    "            print(value)\n",
    "        print('-------')\n",
    "        \n",
    "print_n_times('a', 'b', 'c', 5) # 이렇게 하면 모두 가변 매개변수가 됨으로!! 아래와 같이 표기한다.\n",
    "print_n_times('a', 'b', 'c', n=5)"
   ]
  },
  {
   "cell_type": "code",
   "execution_count": 56,
   "id": "a426af2f",
   "metadata": {},
   "outputs": [
    {
     "name": "stdout",
     "output_type": "stream",
     "text": [
      "210\n",
      "60\n",
      "610\n"
     ]
    }
   ],
   "source": [
    "def test(a, b=100, c=100) :\n",
    "    print(a+b+c)\n",
    "\n",
    "test(10)\n",
    "test(10,20,30)\n",
    "test(c=10, b=100, a=500)"
   ]
  },
  {
   "cell_type": "code",
   "execution_count": 62,
   "id": "75875ad0",
   "metadata": {},
   "outputs": [
    {
     "name": "stdout",
     "output_type": "stream",
     "text": [
      "5050\n",
      "55\n",
      "2550\n"
     ]
    }
   ],
   "source": [
    "def sum_all(start=0, end=100, step=1) :\n",
    "    output = 0\n",
    "    \n",
    "    for i in range(start, end+1, step) :\n",
    "        output += i\n",
    "        \n",
    "    return output\n",
    "\n",
    "print(sum_all())\n",
    "print(sum_all(end=10))\n",
    "print(sum_all(end=100, step=2))"
   ]
  },
  {
   "cell_type": "code",
   "execution_count": null,
   "id": "834c2e5e",
   "metadata": {},
   "outputs": [],
   "source": []
  },
  {
   "cell_type": "code",
   "execution_count": null,
   "id": "c2ed3529",
   "metadata": {},
   "outputs": [],
   "source": []
  },
  {
   "cell_type": "code",
   "execution_count": null,
   "id": "43dcc5d6",
   "metadata": {},
   "outputs": [],
   "source": []
  },
  {
   "cell_type": "code",
   "execution_count": null,
   "id": "55e1dac3",
   "metadata": {},
   "outputs": [],
   "source": []
  },
  {
   "cell_type": "code",
   "execution_count": null,
   "id": "8ffe372f",
   "metadata": {},
   "outputs": [],
   "source": []
  },
  {
   "cell_type": "code",
   "execution_count": null,
   "id": "273e222d",
   "metadata": {},
   "outputs": [],
   "source": []
  },
  {
   "cell_type": "code",
   "execution_count": null,
   "id": "a8e0a08b",
   "metadata": {},
   "outputs": [],
   "source": []
  },
  {
   "cell_type": "code",
   "execution_count": null,
   "id": "fe3a4e3f",
   "metadata": {},
   "outputs": [],
   "source": []
  },
  {
   "cell_type": "code",
   "execution_count": null,
   "id": "ede4e814",
   "metadata": {},
   "outputs": [],
   "source": []
  },
  {
   "cell_type": "code",
   "execution_count": null,
   "id": "11e2fc51",
   "metadata": {},
   "outputs": [],
   "source": []
  },
  {
   "cell_type": "code",
   "execution_count": null,
   "id": "aa85a259",
   "metadata": {},
   "outputs": [],
   "source": []
  }
 ],
 "metadata": {
  "kernelspec": {
   "display_name": "Python 3 (ipykernel)",
   "language": "python",
   "name": "python3"
  },
  "language_info": {
   "codemirror_mode": {
    "name": "ipython",
    "version": 3
   },
   "file_extension": ".py",
   "mimetype": "text/x-python",
   "name": "python",
   "nbconvert_exporter": "python",
   "pygments_lexer": "ipython3",
   "version": "3.9.13"
  }
 },
 "nbformat": 4,
 "nbformat_minor": 5
}
