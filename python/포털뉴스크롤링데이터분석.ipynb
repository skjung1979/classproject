{
 "cells": [
  {
   "cell_type": "code",
   "execution_count": 2,
   "id": "702f94bd",
   "metadata": {},
   "outputs": [],
   "source": [
    "from matplotlib import font_manager, rc\n",
    "\n",
    "font_path = '/Windows/Fonts/batang.ttc'\n",
    "font = font_manager.FontProperties(fname=font_path).get_name()\n",
    "rc('font', family=font)"
   ]
  },
  {
   "cell_type": "code",
   "execution_count": 6,
   "id": "ca1e84b5",
   "metadata": {},
   "outputs": [
    {
     "name": "stdout",
     "output_type": "stream",
     "text": [
      "Defaulting to user installation because normal site-packages is not writeable\n",
      "Collecting bs4\n",
      "  Downloading bs4-0.0.1.tar.gz (1.1 kB)\n",
      "  Preparing metadata (setup.py): started\n",
      "  Preparing metadata (setup.py): finished with status 'done'\n",
      "Requirement already satisfied: beautifulsoup4 in c:\\programdata\\anaconda3\\lib\\site-packages (from bs4) (4.11.1)\n",
      "Requirement already satisfied: soupsieve>1.2 in c:\\programdata\\anaconda3\\lib\\site-packages (from beautifulsoup4->bs4) (2.3.1)\n",
      "Building wheels for collected packages: bs4\n",
      "  Building wheel for bs4 (setup.py): started\n",
      "  Building wheel for bs4 (setup.py): finished with status 'done'\n",
      "  Created wheel for bs4: filename=bs4-0.0.1-py3-none-any.whl size=1257 sha256=432bb6c1b2db2454e169438b034fad86857dd2480f1425ef0127583ac7aab612\n",
      "  Stored in directory: c:\\users\\skjung_gram\\appdata\\local\\pip\\cache\\wheels\\73\\2b\\cb\\099980278a0c9a3e57ff1a89875ec07bfa0b6fcbebb9a8cad3\n",
      "Successfully built bs4\n",
      "Installing collected packages: bs4\n",
      "Successfully installed bs4-0.0.1\n"
     ]
    }
   ],
   "source": [
    "!pip install bs4"
   ]
  },
  {
   "cell_type": "code",
   "execution_count": 16,
   "id": "0c45ed96",
   "metadata": {},
   "outputs": [],
   "source": [
    "import requests\n",
    "import bs4\n",
    "\n",
    "url = 'https://news.daum.net/'\n",
    "res = requests.get(url)\n",
    "\n",
    "#print(res.text)\n",
    "\n",
    "soup = bs4.BeautifulSoup(res.text)\n",
    "#print(soup)\n",
    "#data = soup.find('a')\n",
    "data = soup.find_all('a')\n",
    "#print(data)"
   ]
  },
  {
   "cell_type": "code",
   "execution_count": 18,
   "id": "a3583253",
   "metadata": {},
   "outputs": [],
   "source": [
    "category_url = {\n",
    "    '메인': ['https://news.daum.net/'],\n",
    "    '사회': ['https://news.daum.net/society'],\n",
    "    '정치': ['https://news.daum.net/politics'],\n",
    "    '경제': ['https://news.daum.net/economic'],\n",
    "    '국제': ['https://news.daum.net/foreign'],\n",
    "    '문화': ['https://news.daum.net/culture'],\n",
    "    'IT': ['https://news.daum.net/digital']\n",
    "}"
   ]
  },
  {
   "cell_type": "code",
   "execution_count": 19,
   "id": "7624f864",
   "metadata": {},
   "outputs": [],
   "source": [
    "for i, j in category_url.items() :\n",
    "    res = requests.get(j[0])\n",
    "    j.append(res.text)"
   ]
  },
  {
   "cell_type": "code",
   "execution_count": 22,
   "id": "c414adcd",
   "metadata": {},
   "outputs": [],
   "source": [
    "#print(category_url['문화'])"
   ]
  },
  {
   "cell_type": "code",
   "execution_count": 24,
   "id": "9ffc48d5",
   "metadata": {},
   "outputs": [],
   "source": [
    "temp = []\n",
    "\n",
    "for i, j in category_url.items() :\n",
    "    soup = bs4.BeautifulSoup(j[1])\n",
    "    \n",
    "    for n in soup.find_all('span', attrs={'class': 'info_cp'}) :\n",
    "        temp.append(n.text.strip())\n",
    "        \n",
    "    for n in soup.find_all('span', attrs={'class': 'info_thumb'}) :\n",
    "        if n.find('a') == None :\n",
    "            if '\\n' in n.text.strip() :\n",
    "                temp.append(n.text.strip().split('\\n')[0])\n",
    "            elif n.text.strip() == '' :\n",
    "                temp.append(n.find('img', alt=True)['alt'])\n",
    "            else :\n",
    "                temp.append(n.text.strip())\n",
    "    "
   ]
  },
  {
   "cell_type": "code",
   "execution_count": 25,
   "id": "a8cee594",
   "metadata": {},
   "outputs": [
    {
     "name": "stdout",
     "output_type": "stream",
     "text": [
      "['국제', '정치', '사회', '정치', '국제', '정치', '사회', '사회', '사회', '사회', '정치', '사회', '경제', '경제', '사회', '경제', '국제', '국제', '정치', '경제', '머니투데이', '노컷뉴스', '서울신문', 'YTN', '뉴스1', '대구MBC', '서울신문', '미디어오늘', '뉴스1', '뉴스1', '강원도민일보', '조선비즈', '뉴스1', '헬스조선', '노컷뉴스', '연합뉴스', '경향신문', '연합뉴스', '뉴시스', '뉴시스', '국제신문', '전주MBC', '문화일보', '연합뉴스', 'YTN', '서울신문', 'YTN', '연합뉴스TV', 'MBC', 'KBS', '한겨레', '경향신문', 'SBS', '데일리안', 'YTN', '연합뉴스', '이데일리', '뉴시스', '한국일보', '한겨레', 'YTN', '연합뉴스', '뉴시스', '매일경제', '뉴스1', '데일리안', '뉴스1', 'MBC', '연합뉴스', '뉴스1', 'kbc광주방송', 'SBS', '시사IN', '오마이뉴스', '서울신문', 'MBN', 'KBS', '채널A', '헤럴드경제', '뉴시스', '뉴스1', '뉴시스', 'KBS', '뉴시스', '연합뉴스', '뉴시스', '이데일리', '뉴시스', '연합뉴스', '국제신문', '전주MBC', '헤럴드경제', '헤럴드경제', '아시아경제', '한국경제', 'SBS', 'JTBC', '헤럴드경제', '한국경제TV', '서울경제', 'SBS Biz', '프레시안', 'YTN', '연합뉴스', '한겨레', '아시아경제', '서울신문', '뉴스1', '뉴시스', '연합뉴스', '헤럴드경제', '헤럴드경제', '뉴시스', '연합뉴스', '연합뉴스', '연합뉴스', '한겨레', '한겨레', '조선일보', '뉴시스', '서울신문', 'KBS', 'KBS', '서울신문', '오마이뉴스', 'JTBC', 'SBS Biz', 'KBS', '뉴시스', 'MBN', '서울신문', '뉴시스', '연합뉴스', '뉴시스', '헬스조선', '강원도민일보', '프레시안', '한겨레21', '헤럴드경제', '문화일보', '더스쿠프', '헤럴드경제', '오마이뉴스', '여성동아', '키즈맘', '헬스조선', '코메디닷컴', '웨딩21뉴스', '여성동아', '메종', '투어코리아', '마리끌레르', 'JTBC', '대전일보', '조선일보', '경향신문', '경향신문', '대전일보', '경향신문', '세계일보', '디지털타임스', '연합뉴스', '연합뉴스', '비즈니스워치', '조선비즈', '뉴스1', '지디넷코리아', '지디넷코리아', '머니투데이', '아이뉴스24', '지디넷코리아', '헤럴드경제', '한겨레', '뉴시스', '뉴스1', '머니투데이', '뉴시스', '아이뉴스24', '한국경제', '조선비즈', '조선일보', '전자신문', '한국경제', '이데일리', '아이뉴스24', '전자신문']\n"
     ]
    }
   ],
   "source": [
    "print(temp)"
   ]
  },
  {
   "cell_type": "code",
   "execution_count": 27,
   "id": "2d59375b",
   "metadata": {},
   "outputs": [
    {
     "name": "stdout",
     "output_type": "stream",
     "text": [
      "헤럴드경제\n",
      "한겨레\n",
      "뉴시스\n",
      "뉴스1\n",
      "머니투데이\n",
      "뉴시스\n",
      "아이뉴스24\n",
      "한국경제\n",
      "조선비즈\n",
      "조선일보\n",
      "전자신문\n",
      "한국경제\n",
      "이데일리\n",
      "아이뉴스24\n",
      "전자신문\n",
      "['헤럴드경제', '한겨레', '뉴시스', '뉴스1', '머니투데이', '뉴시스', '아이뉴스24', '한국경제', '조선비즈', '조선일보', '전자신문', '한국경제', '이데일리', '아이뉴스24', '전자신문']\n"
     ]
    }
   ],
   "source": [
    "temp_a = []\n",
    "soup = bs4.BeautifulSoup(category_url['IT'][1])\n",
    "for i in soup.find_all('span', attrs={'class': 'info_thumb'}):\n",
    "    if i.find('a') == None :\n",
    "        print(i.text.strip())\n",
    "        temp_a.append(i.text.strip())\n",
    "        \n",
    "print(temp_a)"
   ]
  },
  {
   "cell_type": "code",
   "execution_count": null,
   "id": "3a63d038",
   "metadata": {},
   "outputs": [],
   "source": []
  },
  {
   "cell_type": "code",
   "execution_count": null,
   "id": "fdda4af4",
   "metadata": {},
   "outputs": [],
   "source": []
  },
  {
   "cell_type": "code",
   "execution_count": null,
   "id": "8a379d47",
   "metadata": {},
   "outputs": [],
   "source": []
  },
  {
   "cell_type": "code",
   "execution_count": null,
   "id": "e3fe3c56",
   "metadata": {},
   "outputs": [],
   "source": []
  },
  {
   "cell_type": "code",
   "execution_count": null,
   "id": "15056651",
   "metadata": {},
   "outputs": [],
   "source": []
  },
  {
   "cell_type": "code",
   "execution_count": null,
   "id": "35f5af78",
   "metadata": {},
   "outputs": [],
   "source": []
  },
  {
   "cell_type": "code",
   "execution_count": null,
   "id": "7c802a44",
   "metadata": {},
   "outputs": [],
   "source": []
  },
  {
   "cell_type": "code",
   "execution_count": null,
   "id": "b5395051",
   "metadata": {},
   "outputs": [],
   "source": []
  }
 ],
 "metadata": {
  "kernelspec": {
   "display_name": "Python 3 (ipykernel)",
   "language": "python",
   "name": "python3"
  },
  "language_info": {
   "codemirror_mode": {
    "name": "ipython",
    "version": 3
   },
   "file_extension": ".py",
   "mimetype": "text/x-python",
   "name": "python",
   "nbconvert_exporter": "python",
   "pygments_lexer": "ipython3",
   "version": "3.9.13"
  }
 },
 "nbformat": 4,
 "nbformat_minor": 5
}
