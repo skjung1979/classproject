{
 "cells": [
  {
   "cell_type": "code",
   "execution_count": 2,
   "id": "6e880889",
   "metadata": {},
   "outputs": [
    {
     "name": "stdout",
     "output_type": "stream",
     "text": [
      "Defaulting to user installation because normal site-packages is not writeable\n",
      "Requirement already satisfied: pandas in c:\\programdata\\anaconda3\\lib\\site-packages (1.4.4)\n",
      "Requirement already satisfied: python-dateutil>=2.8.1 in c:\\programdata\\anaconda3\\lib\\site-packages (from pandas) (2.8.2)\n",
      "Requirement already satisfied: pytz>=2020.1 in c:\\programdata\\anaconda3\\lib\\site-packages (from pandas) (2022.1)\n",
      "Requirement already satisfied: numpy>=1.18.5 in c:\\programdata\\anaconda3\\lib\\site-packages (from pandas) (1.21.5)\n",
      "Requirement already satisfied: six>=1.5 in c:\\programdata\\anaconda3\\lib\\site-packages (from python-dateutil>=2.8.1->pandas) (1.16.0)\n"
     ]
    }
   ],
   "source": [
    "!pip install pandas"
   ]
  },
  {
   "cell_type": "code",
   "execution_count": 25,
   "id": "c4f4bb1f",
   "metadata": {},
   "outputs": [
    {
     "name": "stdout",
     "output_type": "stream",
     "text": [
      "<class 'pandas.core.frame.DataFrame'>\n"
     ]
    }
   ],
   "source": [
    "# pandas 이용해서 데이터 불러오기\n",
    "import pandas as pd\n",
    "\n",
    "result = pd.read_csv('201312.csv', encoding='cp949')\n",
    "print(type(result))"
   ]
  },
  {
   "cell_type": "code",
   "execution_count": 26,
   "id": "faffc805",
   "metadata": {},
   "outputs": [
    {
     "name": "stdout",
     "output_type": "stream",
     "text": [
      "Index(['행정구역', '2013년_총인구수', '2013년_세대수', '2013년_세대당 인구', '2013년_남자 인구수',\n",
      "       '2013년_여자 인구수', '2013년_남여 비율', '2014년_총인구수', '2014년_세대수',\n",
      "       '2014년_세대당 인구', '2014년_남자 인구수', '2014년_여자 인구수', '2014년_남여 비율',\n",
      "       '2015년_총인구수', '2015년_세대수', '2015년_세대당 인구', '2015년_남자 인구수',\n",
      "       '2015년_여자 인구수', '2015년_남여 비율', '2016년_총인구수', '2016년_세대수',\n",
      "       '2016년_세대당 인구', '2016년_남자 인구수', '2016년_여자 인구수', '2016년_남여 비율',\n",
      "       '2017년_총인구수', '2017년_세대수', '2017년_세대당 인구', '2017년_남자 인구수',\n",
      "       '2017년_여자 인구수', '2017년_남여 비율', '2018년_총인구수', '2018년_세대수',\n",
      "       '2018년_세대당 인구', '2018년_남자 인구수', '2018년_여자 인구수', '2018년_남여 비율',\n",
      "       '2019년_총인구수', '2019년_세대수', '2019년_세대당 인구', '2019년_남자 인구수',\n",
      "       '2019년_여자 인구수', '2019년_남여 비율', '2020년_총인구수', '2020년_세대수',\n",
      "       '2020년_세대당 인구', '2020년_남자 인구수', '2020년_여자 인구수', '2020년_남여 비율',\n",
      "       '2021년_총인구수', '2021년_세대수', '2021년_세대당 인구', '2021년_남자 인구수',\n",
      "       '2021년_여자 인구수', '2021년_남여 비율', '2022년_총인구수', '2022년_세대수',\n",
      "       '2022년_세대당 인구', '2022년_남자 인구수', '2022년_여자 인구수', '2022년_남여 비율'],\n",
      "      dtype='object')\n"
     ]
    }
   ],
   "source": [
    "print(result.columns)"
   ]
  },
  {
   "cell_type": "code",
   "execution_count": 9,
   "id": "60ce499b",
   "metadata": {},
   "outputs": [
    {
     "name": "stdout",
     "output_type": "stream",
     "text": [
      "61\n"
     ]
    }
   ],
   "source": [
    "print(len(result.columns))"
   ]
  },
  {
   "cell_type": "code",
   "execution_count": 27,
   "id": "ee42a1d5",
   "metadata": {},
   "outputs": [
    {
     "name": "stdout",
     "output_type": "stream",
     "text": [
      "2013년_총인구수\n",
      "2014년_총인구수\n",
      "2015년_총인구수\n",
      "2016년_총인구수\n",
      "2017년_총인구수\n",
      "2018년_총인구수\n",
      "2019년_총인구수\n",
      "2020년_총인구수\n",
      "2021년_총인구수\n",
      "2022년_총인구수\n"
     ]
    }
   ],
   "source": [
    "for i in range(1, len(result.columns), 6) :\n",
    "    print(result.columns[i])"
   ]
  },
  {
   "cell_type": "code",
   "execution_count": 28,
   "id": "22ec3113",
   "metadata": {},
   "outputs": [
    {
     "name": "stdout",
     "output_type": "stream",
     "text": [
      "행정구역            서울특별시 강동구 (1174000000)\n",
      "2013년_총인구수                     483,379\n",
      "2013년_세대수                      186,764\n",
      "2013년_세대당 인구                      2.59\n",
      "2013년_남자 인구수                   241,503\n",
      "                         ...          \n",
      "2022년_세대수                      202,169\n",
      "2022년_세대당 인구                      2.28\n",
      "2022년_남자 인구수                   225,221\n",
      "2022년_여자 인구수                   234,846\n",
      "2022년_남여 비율                       0.96\n",
      "Name: 25, Length: 61, dtype: object\n"
     ]
    }
   ],
   "source": [
    "# 행 단위 데이터 확인\n",
    "print(result.iloc[25])"
   ]
  },
  {
   "cell_type": "code",
   "execution_count": 29,
   "id": "56c89cba",
   "metadata": {},
   "outputs": [
    {
     "name": "stdout",
     "output_type": "stream",
     "text": [
      "서울특별시 강동구 (1174000000)\n"
     ]
    }
   ],
   "source": [
    "print(result.iloc[25,0])"
   ]
  },
  {
   "cell_type": "code",
   "execution_count": 30,
   "id": "dfcf57e3",
   "metadata": {},
   "outputs": [
    {
     "name": "stdout",
     "output_type": "stream",
     "text": [
      "2013년_총인구수    483,379\n",
      "2014년_총인구수    476,597\n",
      "2015년_총인구수    458,658\n",
      "2016년_총인구수    444,168\n",
      "2017년_총인구수    436,223\n",
      "2018년_총인구수    427,573\n",
      "2019년_총인구수    436,067\n",
      "2020년_총인구수    459,970\n",
      "2021년_총인구수    462,664\n",
      "2022년_총인구수    460,067\n",
      "Name: 25, dtype: object\n"
     ]
    }
   ],
   "source": [
    "print(result.iloc[25, range(1, len(result.columns), 6)])"
   ]
  },
  {
   "cell_type": "code",
   "execution_count": 36,
   "id": "884f1f1d",
   "metadata": {},
   "outputs": [
    {
     "data": {
      "image/png": "[encoded data removed]",
      "text/plain": [
       "<Figure size 640x480 with 1 Axes>"
      ]
     },
     "metadata": {},
     "output_type": "display_data"
    }
   ],
   "source": [
    "# pandas 이용해서 데이터 불러오기\n",
    "import pandas as pd\n",
    "import matplotlib.pyplot as plt\n",
    "\n",
    "result = pd.read_csv('201312.csv', encoding='cp949')\n",
    "\n",
    "# 시각화에 필요한 데이터 셑\n",
    "data = {}\n",
    "#{'서울특별시 강동구 (1174000000)':[]}\n",
    "\n",
    "for i in range(1, len(result)):\n",
    "    data[result.iloc[i,0]] = result.iloc[i, range(1, len(result.columns), 6)]\n",
    "    \n",
    "# 시각화 처리\n",
    "plt.ylim([400000, 490000])\n",
    "\n",
    "loc = '서울특별시 강동구 (1174000000)'\n",
    "\n",
    "for i in range(len(data[loc])) :\n",
    "    # str -> ','를 제거 -> 문자를 숫자타입으로 변경\n",
    "    data[loc][i] = int(data[loc][i].replace(',', ''))\n",
    "    plt.bar(data[loc].index[i].split('년_')[0], data[loc][i])\n",
    "    \n",
    "plt.show()"
   ]
  },
  {
   "cell_type": "code",
   "execution_count": 21,
   "id": "f31840db",
   "metadata": {},
   "outputs": [],
   "source": [
    "# print(data)"
   ]
  },
  {
   "cell_type": "code",
   "execution_count": 35,
   "id": "1851aa6a",
   "metadata": {},
   "outputs": [],
   "source": [
    "from matplotlib import font_manager, rc\n",
    "\n",
    "font_path = '/Windows/Fonts/batang.ttc'\n",
    "font = font_manager.FontProperties(fname=font_path).get_name()\n",
    "rc('font', family=font)"
   ]
  },
  {
   "cell_type": "code",
   "execution_count": null,
   "id": "a3f77304",
   "metadata": {},
   "outputs": [],
   "source": []
  },
  {
   "cell_type": "code",
   "execution_count": null,
   "id": "f394927a",
   "metadata": {},
   "outputs": [],
   "source": []
  },
  {
   "cell_type": "code",
   "execution_count": null,
   "id": "d0b84404",
   "metadata": {},
   "outputs": [],
   "source": []
  },
  {
   "cell_type": "code",
   "execution_count": null,
   "id": "c010a95f",
   "metadata": {},
   "outputs": [],
   "source": []
  },
  {
   "cell_type": "code",
   "execution_count": null,
   "id": "d4405dac",
   "metadata": {},
   "outputs": [],
   "source": []
  }
 ],
 "metadata": {
  "kernelspec": {
   "display_name": "Python 3 (ipykernel)",
   "language": "python",
   "name": "python3"
  },
  "language_info": {
   "codemirror_mode": {
    "name": "ipython",
    "version": 3
   },
   "file_extension": ".py",
   "mimetype": "text/x-python",
   "name": "python",
   "nbconvert_exporter": "python",
   "pygments_lexer": "ipython3",
   "version": "3.9.13"
  }
 },
 "nbformat": 4,
 "nbformat_minor": 5
}
