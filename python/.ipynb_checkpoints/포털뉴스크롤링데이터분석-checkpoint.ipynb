{
 "cells": [
  {
   "cell_type": "code",
   "execution_count": 2,
   "id": "d9a4e1dd",
   "metadata": {},
   "outputs": [],
   "source": [
    "from matplotlib import font_manager, rc\n",
    "\n",
    "font_path = '/Windows/Fonts/batang.ttc'\n",
    "font = font_manager.FontProperties(fname=font_path).get_name()\n",
    "rc('font', family=font)"
   ]
  },
  {
   "cell_type": "code",
   "execution_count": 6,
   "id": "50b936e7",
   "metadata": {},
   "outputs": [
    {
     "name": "stdout",
     "output_type": "stream",
     "text": [
      "Defaulting to user installation because normal site-packages is not writeable\n",
      "Collecting bs4\n",
      "  Downloading bs4-0.0.1.tar.gz (1.1 kB)\n",
      "  Preparing metadata (setup.py): started\n",
      "  Preparing metadata (setup.py): finished with status 'done'\n",
      "Requirement already satisfied: beautifulsoup4 in c:\\programdata\\anaconda3\\lib\\site-packages (from bs4) (4.11.1)\n",
      "Requirement already satisfied: soupsieve>1.2 in c:\\programdata\\anaconda3\\lib\\site-packages (from beautifulsoup4->bs4) (2.3.1)\n",
      "Building wheels for collected packages: bs4\n",
      "  Building wheel for bs4 (setup.py): started\n",
      "  Building wheel for bs4 (setup.py): finished with status 'done'\n",
      "  Created wheel for bs4: filename=bs4-0.0.1-py3-none-any.whl size=1257 sha256=432bb6c1b2db2454e169438b034fad86857dd2480f1425ef0127583ac7aab612\n",
      "  Stored in directory: c:\\users\\skjung_gram\\appdata\\local\\pip\\cache\\wheels\\73\\2b\\cb\\099980278a0c9a3e57ff1a89875ec07bfa0b6fcbebb9a8cad3\n",
      "Successfully built bs4\n",
      "Installing collected packages: bs4\n",
      "Successfully installed bs4-0.0.1\n"
     ]
    }
   ],
   "source": [
    "!pip install bs4"
   ]
  },
  {
   "cell_type": "code",
   "execution_count": 16,
   "id": "ccdada85",
   "metadata": {},
   "outputs": [],
   "source": [
    "import requests\n",
    "import bs4\n",
    "\n",
    "url = 'https://news.daum.net/'\n",
    "res = requests.get(url)\n",
    "\n",
    "#print(res.text)\n",
    "\n",
    "soup = bs4.BeautifulSoup(res.text)\n",
    "#print(soup)\n",
    "#data = soup.find('a')\n",
    "data = soup.find_all('a')\n",
    "#print(data)"
   ]
  },
  {
   "cell_type": "code",
   "execution_count": 18,
   "id": "bd04acea",
   "metadata": {},
   "outputs": [],
   "source": [
    "category_url = {\n",
    "    '메인': ['https://news.daum.net/'],\n",
    "    '사회': ['https://news.daum.net/society'],\n",
    "    '정치': ['https://news.daum.net/politics'],\n",
    "    '경제': ['https://news.daum.net/economic'],\n",
    "    '국제': ['https://news.daum.net/foreign'],\n",
    "    '문화': ['https://news.daum.net/culture'],\n",
    "    'IT': ['https://news.daum.net/digital']\n",
    "}"
   ]
  },
  {
   "cell_type": "code",
   "execution_count": 19,
   "id": "87c56fac",
   "metadata": {},
   "outputs": [],
   "source": [
    "for i, j in category_url.items() :\n",
    "    res = requests.get(j[0])\n",
    "    j.append(res.text)"
   ]
  },
  {
   "cell_type": "code",
   "execution_count": 22,
   "id": "739f1db4",
   "metadata": {},
   "outputs": [],
   "source": [
    "#print(category_url['문화'])"
   ]
  },
  {
   "cell_type": "code",
   "execution_count": 23,
   "id": "01a3ccce",
   "metadata": {},
   "outputs": [
    {
     "ename": "SyntaxError",
     "evalue": "unmatched ')' (2665859455.py, line 7)",
     "output_type": "error",
     "traceback": [
      "\u001b[1;36m  File \u001b[1;32m\"C:\\Users\\skjung_gram\\AppData\\Local\\Temp\\ipykernel_7132\\2665859455.py\"\u001b[1;36m, line \u001b[1;32m7\u001b[0m\n\u001b[1;33m    temp.append(n.text.strip))\u001b[0m\n\u001b[1;37m                             ^\u001b[0m\n\u001b[1;31mSyntaxError\u001b[0m\u001b[1;31m:\u001b[0m unmatched ')'\n"
     ]
    }
   ],
   "source": [
    "temp = []\n",
    "\n",
    "for i, j in category_url.items() :\n",
    "    soup = bs4.BeautifulSoup(j[1])\n",
    "    \n",
    "    for n in soup.find_all('span', attrs={'class': 'info_cp'}) :\n",
    "        temp.append(n.text.strip))\n",
    "        \n",
    "    for n in soup.find_all('span', attrs={'class': 'info_thumb'}) :\n",
    "        if n.find('a') == None :\n",
    "            if '\\n' in n.text.strip() :\n",
    "                temp.append(n.text.strip().split('\\n')[0])\n",
    "            elif n.text.strip() == '' :\n",
    "                temp.append(n.find('img', alt=True)['alt'])\n",
    "            else :\n",
    "                temp.append(n.text.strip())\n",
    "    "
   ]
  },
  {
   "cell_type": "code",
   "execution_count": null,
   "id": "1146a78f",
   "metadata": {},
   "outputs": [],
   "source": []
  },
  {
   "cell_type": "code",
   "execution_count": null,
   "id": "a94a439f",
   "metadata": {},
   "outputs": [],
   "source": []
  },
  {
   "cell_type": "code",
   "execution_count": null,
   "id": "2c95b980",
   "metadata": {},
   "outputs": [],
   "source": []
  },
  {
   "cell_type": "code",
   "execution_count": null,
   "id": "f33bcad6",
   "metadata": {},
   "outputs": [],
   "source": []
  },
  {
   "cell_type": "code",
   "execution_count": null,
   "id": "48120898",
   "metadata": {},
   "outputs": [],
   "source": []
  },
  {
   "cell_type": "code",
   "execution_count": null,
   "id": "ad1a595c",
   "metadata": {},
   "outputs": [],
   "source": []
  },
  {
   "cell_type": "code",
   "execution_count": null,
   "id": "b3179983",
   "metadata": {},
   "outputs": [],
   "source": []
  },
  {
   "cell_type": "code",
   "execution_count": null,
   "id": "43bd4b11",
   "metadata": {},
   "outputs": [],
   "source": []
  },
  {
   "cell_type": "code",
   "execution_count": null,
   "id": "8fcde648",
   "metadata": {},
   "outputs": [],
   "source": []
  },
  {
   "cell_type": "code",
   "execution_count": null,
   "id": "04cbdf52",
   "metadata": {},
   "outputs": [],
   "source": []
  }
 ],
 "metadata": {
  "kernelspec": {
   "display_name": "Python 3 (ipykernel)",
   "language": "python",
   "name": "python3"
  },
  "language_info": {
   "codemirror_mode": {
    "name": "ipython",
    "version": 3
   },
   "file_extension": ".py",
   "mimetype": "text/x-python",
   "name": "python",
   "nbconvert_exporter": "python",
   "pygments_lexer": "ipython3",
   "version": "3.9.13"
  }
 },
 "nbformat": 4,
 "nbformat_minor": 5
}
